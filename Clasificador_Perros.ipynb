{
  "nbformat": 4,
  "nbformat_minor": 0,
  "metadata": {
    "colab": {
      "provenance": [],
      "authorship_tag": "ABX9TyNvSfV1b6PPZCd8rmA7rB4y",
      "include_colab_link": true
    },
    "kernelspec": {
      "name": "python3",
      "display_name": "Python 3"
    },
    "language_info": {
      "name": "python"
    }
  },
  "cells": [
    {
      "cell_type": "markdown",
      "metadata": {
        "id": "view-in-github",
        "colab_type": "text"
      },
      "source": [
        "<a href=\"https://colab.research.google.com/github/JCSR2022/Cover_Letter_project/blob/main/Clasificador_Perros.ipynb\" target=\"_parent\"><img src=\"https://colab.research.google.com/assets/colab-badge.svg\" alt=\"Open In Colab\"/></a>"
      ]
    },
    {
      "cell_type": "markdown",
      "source": [
        "Proyecto basado en curso Pianalytix. Modulo 02."
      ],
      "metadata": {
        "id": "APJc5Gf_kvEE"
      }
    },
    {
      "cell_type": "markdown",
      "source": [
        "\n",
        "## Predicción de raza de perro\n",
        "\n",
        "En este proyecto, veremos cómo usar Keras y TensorFlow para construir, entrenar y probar una red neuronal convolucional capaz de identificar la raza de un perro en una imagen suministrada. Este es un problema de aprendizaje supervisado, específicamente un problema de clasificación multiclase.\n",
        "\n",
        "\n",
        "Una red neuronal convolucional (CNN, por sus siglas en inglés) es un tipo de arquitectura de redes neuronales profundas diseñada para procesar y analizar datos que tienen una estructura de cuadrícula, como imágenes o secuencias de datos temporales. Las CNN se han vuelto muy populares en el campo del aprendizaje automático y la visión por computadora debido a su capacidad para extraer automáticamente características relevantes de los datos y realizar tareas de clasificación y reconocimiento visual de alto nivel.\n",
        "\n",
        "La estructura principal de una CNN está compuesta por capas convolucionales, capas de pooling (submuestreo) y capas completamente conectadas. Las capas convolucionales son responsables de aplicar filtros a los datos de entrada para detectar características locales, como bordes, texturas o patrones específicos. Estas capas utilizan la operación de convolución, que aplica una ventana deslizante sobre la entrada y realiza una multiplicación punto a punto entre los valores de la ventana y los valores de los filtros.\n",
        "\n",
        "Las capas de pooling reducen la dimensionalidad de los datos al realizar un submuestreo o agrupamiento de los valores en cada ventana, manteniendo las características más relevantes. Esto ayuda a reducir el número de parámetros del modelo y a extraer características invariantes a pequeñas transformaciones en los datos.\n",
        "\n",
        "Las capas completamente conectadas se utilizan al final de la red para realizar la clasificación final. Estas capas están compuestas por neuronas que reciben información de todas las características extraídas por las capas convolucionales y de pooling, y generan las predicciones finales.\n",
        "\n",
        "En el contexto del aprendizaje supervisado y un problema de clasificación multiclase, una CNN se utiliza de la siguiente manera:\n",
        "\n",
        "1. Preparación de los datos: Los datos de entrada, como imágenes, se procesan y se ajustan a un formato adecuado para la red neuronal. Esto puede implicar la normalización de los valores de píxeles, la reescala de las imágenes o la codificación de las etiquetas en forma de vectores binarios.\n",
        "\n",
        "2. Definición de la arquitectura de la CNN: Se establece la estructura de capas convolucionales, capas de pooling y capas completamente conectadas que componen la red. Esto implica determinar el número de capas, el tamaño de los filtros, las funciones de activación y otros hiperparámetros.\n",
        "\n",
        "3. Entrenamiento del modelo: Se utiliza un conjunto de datos de entrenamiento etiquetado para ajustar los parámetros de la red neuronal. Durante el entrenamiento, se realiza un proceso de propagación hacia adelante (forward propagation) para calcular las predicciones, se calcula la función de pérdida (como la entropía cruzada) para medir el error entre las predicciones y las etiquetas reales, y se realiza la propagación hacia atrás (backpropagation) para actualizar los pesos de la red mediante algoritmos de optimización, como el descenso del gradiente estocástico.\n",
        "\n",
        "4. Evaluación del modelo: Una vez entrenada la CNN, se utiliza un conjunto de datos de prueba separado para evaluar su rendimiento. Se calculan métricas de evaluación, como la precisión, el recall y el F1-score, para medir la capacidad del modelo para clasificar correctamente las diferentes clases en el problema multiclase.\n",
        "\n",
        "5. Predicciones en nuevos datos: Una vez que el modelo ha sido entrenado y evaluado, se puede utilizar para realizar predicciones en nuevos datos sin etiquetas. La CNN aplicará sus capas convolucionales y de pooling para extraer características relevantes de los datos y generará predicciones de clasificación utilizando las capas completamente conectadas.\n"
      ],
      "metadata": {
        "id": "331m61vKkM9F"
      }
    },
    {
      "cell_type": "code",
      "execution_count": 2,
      "metadata": {
        "colab": {
          "base_uri": "https://localhost:8080/",
          "height": 90
        },
        "id": "GzS4DtWvi7mu",
        "outputId": "1e77a3d8-6c35-40ab-f9c0-e48661bd3c6d"
      },
      "outputs": [
        {
          "output_type": "display_data",
          "data": {
            "text/plain": [
              "<IPython.core.display.HTML object>"
            ],
            "text/html": [
              "\n",
              "     <input type=\"file\" id=\"files-f500bd1c-dd5d-4867-aa45-cdbcd0a5af27\" name=\"files[]\" multiple disabled\n",
              "        style=\"border:none\" />\n",
              "     <output id=\"result-f500bd1c-dd5d-4867-aa45-cdbcd0a5af27\">\n",
              "      Upload widget is only available when the cell has been executed in the\n",
              "      current browser session. Please rerun this cell to enable.\n",
              "      </output>\n",
              "      <script>// Copyright 2017 Google LLC\n",
              "//\n",
              "// Licensed under the Apache License, Version 2.0 (the \"License\");\n",
              "// you may not use this file except in compliance with the License.\n",
              "// You may obtain a copy of the License at\n",
              "//\n",
              "//      http://www.apache.org/licenses/LICENSE-2.0\n",
              "//\n",
              "// Unless required by applicable law or agreed to in writing, software\n",
              "// distributed under the License is distributed on an \"AS IS\" BASIS,\n",
              "// WITHOUT WARRANTIES OR CONDITIONS OF ANY KIND, either express or implied.\n",
              "// See the License for the specific language governing permissions and\n",
              "// limitations under the License.\n",
              "\n",
              "/**\n",
              " * @fileoverview Helpers for google.colab Python module.\n",
              " */\n",
              "(function(scope) {\n",
              "function span(text, styleAttributes = {}) {\n",
              "  const element = document.createElement('span');\n",
              "  element.textContent = text;\n",
              "  for (const key of Object.keys(styleAttributes)) {\n",
              "    element.style[key] = styleAttributes[key];\n",
              "  }\n",
              "  return element;\n",
              "}\n",
              "\n",
              "// Max number of bytes which will be uploaded at a time.\n",
              "const MAX_PAYLOAD_SIZE = 100 * 1024;\n",
              "\n",
              "function _uploadFiles(inputId, outputId) {\n",
              "  const steps = uploadFilesStep(inputId, outputId);\n",
              "  const outputElement = document.getElementById(outputId);\n",
              "  // Cache steps on the outputElement to make it available for the next call\n",
              "  // to uploadFilesContinue from Python.\n",
              "  outputElement.steps = steps;\n",
              "\n",
              "  return _uploadFilesContinue(outputId);\n",
              "}\n",
              "\n",
              "// This is roughly an async generator (not supported in the browser yet),\n",
              "// where there are multiple asynchronous steps and the Python side is going\n",
              "// to poll for completion of each step.\n",
              "// This uses a Promise to block the python side on completion of each step,\n",
              "// then passes the result of the previous step as the input to the next step.\n",
              "function _uploadFilesContinue(outputId) {\n",
              "  const outputElement = document.getElementById(outputId);\n",
              "  const steps = outputElement.steps;\n",
              "\n",
              "  const next = steps.next(outputElement.lastPromiseValue);\n",
              "  return Promise.resolve(next.value.promise).then((value) => {\n",
              "    // Cache the last promise value to make it available to the next\n",
              "    // step of the generator.\n",
              "    outputElement.lastPromiseValue = value;\n",
              "    return next.value.response;\n",
              "  });\n",
              "}\n",
              "\n",
              "/**\n",
              " * Generator function which is called between each async step of the upload\n",
              " * process.\n",
              " * @param {string} inputId Element ID of the input file picker element.\n",
              " * @param {string} outputId Element ID of the output display.\n",
              " * @return {!Iterable<!Object>} Iterable of next steps.\n",
              " */\n",
              "function* uploadFilesStep(inputId, outputId) {\n",
              "  const inputElement = document.getElementById(inputId);\n",
              "  inputElement.disabled = false;\n",
              "\n",
              "  const outputElement = document.getElementById(outputId);\n",
              "  outputElement.innerHTML = '';\n",
              "\n",
              "  const pickedPromise = new Promise((resolve) => {\n",
              "    inputElement.addEventListener('change', (e) => {\n",
              "      resolve(e.target.files);\n",
              "    });\n",
              "  });\n",
              "\n",
              "  const cancel = document.createElement('button');\n",
              "  inputElement.parentElement.appendChild(cancel);\n",
              "  cancel.textContent = 'Cancel upload';\n",
              "  const cancelPromise = new Promise((resolve) => {\n",
              "    cancel.onclick = () => {\n",
              "      resolve(null);\n",
              "    };\n",
              "  });\n",
              "\n",
              "  // Wait for the user to pick the files.\n",
              "  const files = yield {\n",
              "    promise: Promise.race([pickedPromise, cancelPromise]),\n",
              "    response: {\n",
              "      action: 'starting',\n",
              "    }\n",
              "  };\n",
              "\n",
              "  cancel.remove();\n",
              "\n",
              "  // Disable the input element since further picks are not allowed.\n",
              "  inputElement.disabled = true;\n",
              "\n",
              "  if (!files) {\n",
              "    return {\n",
              "      response: {\n",
              "        action: 'complete',\n",
              "      }\n",
              "    };\n",
              "  }\n",
              "\n",
              "  for (const file of files) {\n",
              "    const li = document.createElement('li');\n",
              "    li.append(span(file.name, {fontWeight: 'bold'}));\n",
              "    li.append(span(\n",
              "        `(${file.type || 'n/a'}) - ${file.size} bytes, ` +\n",
              "        `last modified: ${\n",
              "            file.lastModifiedDate ? file.lastModifiedDate.toLocaleDateString() :\n",
              "                                    'n/a'} - `));\n",
              "    const percent = span('0% done');\n",
              "    li.appendChild(percent);\n",
              "\n",
              "    outputElement.appendChild(li);\n",
              "\n",
              "    const fileDataPromise = new Promise((resolve) => {\n",
              "      const reader = new FileReader();\n",
              "      reader.onload = (e) => {\n",
              "        resolve(e.target.result);\n",
              "      };\n",
              "      reader.readAsArrayBuffer(file);\n",
              "    });\n",
              "    // Wait for the data to be ready.\n",
              "    let fileData = yield {\n",
              "      promise: fileDataPromise,\n",
              "      response: {\n",
              "        action: 'continue',\n",
              "      }\n",
              "    };\n",
              "\n",
              "    // Use a chunked sending to avoid message size limits. See b/62115660.\n",
              "    let position = 0;\n",
              "    do {\n",
              "      const length = Math.min(fileData.byteLength - position, MAX_PAYLOAD_SIZE);\n",
              "      const chunk = new Uint8Array(fileData, position, length);\n",
              "      position += length;\n",
              "\n",
              "      const base64 = btoa(String.fromCharCode.apply(null, chunk));\n",
              "      yield {\n",
              "        response: {\n",
              "          action: 'append',\n",
              "          file: file.name,\n",
              "          data: base64,\n",
              "        },\n",
              "      };\n",
              "\n",
              "      let percentDone = fileData.byteLength === 0 ?\n",
              "          100 :\n",
              "          Math.round((position / fileData.byteLength) * 100);\n",
              "      percent.textContent = `${percentDone}% done`;\n",
              "\n",
              "    } while (position < fileData.byteLength);\n",
              "  }\n",
              "\n",
              "  // All done.\n",
              "  yield {\n",
              "    response: {\n",
              "      action: 'complete',\n",
              "    }\n",
              "  };\n",
              "}\n",
              "\n",
              "scope.google = scope.google || {};\n",
              "scope.google.colab = scope.google.colab || {};\n",
              "scope.google.colab._files = {\n",
              "  _uploadFiles,\n",
              "  _uploadFilesContinue,\n",
              "};\n",
              "})(self);\n",
              "</script> "
            ]
          },
          "metadata": {}
        },
        {
          "output_type": "stream",
          "name": "stdout",
          "text": [
            "Saving kaggle.json to kaggle.json\n"
          ]
        },
        {
          "output_type": "execute_result",
          "data": {
            "text/plain": [
              "{'kaggle.json': b'{\"username\":\"jhonathansantacana\",\"key\":\"1e88ff048495e1a14d739c46b7aed144\"}'}"
            ]
          },
          "metadata": {},
          "execution_count": 2
        }
      ],
      "source": [
        "# Para cargar la data se debe ir a https://www.kaggle.com/settings y crear un API token para tener el archivo kaggle.json\n",
        "from google.colab import files\n",
        "files.upload()"
      ]
    },
    {
      "cell_type": "code",
      "source": [
        "# A continuación, instalamos el cliente API de Kaggle.\n",
        "! pip install -q kaggle"
      ],
      "metadata": {
        "id": "sUIvEp2AoP7z"
      },
      "execution_count": 3,
      "outputs": []
    },
    {
      "cell_type": "markdown",
      "source": [
        "El API de Kaggle espera que el archivo este en una carpeta con el mismo nombre, por lo que se crea un directorio llamado \".kaggle\" en el directorio principal del usuario utilizando el comando mkdir -p ~/.kaggle. El flag -p asegura que se cree el directorio incluso si ya existe. Este directorio es necesario para almacenar el archivo \"kaggle.json\" que contiene las credenciales de autenticación de Kaggle.\n",
        "\n",
        "Luego, se copia el archivo \"kaggle.json\" al directorio \"~/.kaggle/\" utilizando el comando cp kaggle.json ~/.kaggle/,  el archivo \"kaggle.json\" se encuentra en el directorio actual donde se está ejecutando el código ya que se cargo usando files.upload(). El archivo \"kaggle.json\" contiene la clave de API necesaria para acceder a los conjuntos de datos y competencias de Kaggle\n",
        "\n",
        "Por último, se cambian los permisos del archivo \"kaggle.json\" utilizando el comando chmod 600 ~/.kaggle/kaggle.json. Esto establece los permisos de lectura y escritura únicamente para el propietario del archivo y evita una advertencia que puede aparecer al iniciar la herramienta de Kaggle."
      ],
      "metadata": {
        "id": "OVadfh8YqyAR"
      }
    },
    {
      "cell_type": "code",
      "source": [
        "#! mkdir kaggle"
      ],
      "metadata": {
        "id": "QjIdBcQat7sX"
      },
      "execution_count": 29,
      "outputs": []
    },
    {
      "cell_type": "code",
      "source": [
        "! mkdir -p ~/.kaggle\n",
        "!cp kaggle.json ~/.kaggle/\n",
        "!chmod 600 ~/.kaggle/kaggle.json"
      ],
      "metadata": {
        "id": "6zKDizxQoqNx"
      },
      "execution_count": 5,
      "outputs": []
    },
    {
      "cell_type": "markdown",
      "source": [
        "Para almacenar los datos, crearemos un nuevo directorio y lo convertiremos en el directorio de trabajo actual."
      ],
      "metadata": {
        "id": "0t0DR0iRuL_e"
      }
    },
    {
      "cell_type": "code",
      "source": [
        "# Crear directorio y cambiar el directorio de trabajo actual\n",
        "!mkdir dog_dataset\n",
        "%cd dog_dataset"
      ],
      "metadata": {
        "colab": {
          "base_uri": "https://localhost:8080/"
        },
        "id": "kaliBWn-tOuh",
        "outputId": "6ed3c13b-fd2e-4ceb-90cb-17f20b25448f"
      },
      "execution_count": 30,
      "outputs": [
        {
          "output_type": "stream",
          "name": "stdout",
          "text": [
            "/dog_dataset\n"
          ]
        }
      ]
    },
    {
      "cell_type": "markdown",
      "source": [
        "Buscando en Kaggle el conjunto de datos requerido usando la(s) opción(es) de búsqueda con el título 'dogbreedidfromcomp'. También podemos utilizar distintas opciones de búsqueda como buscar concursos, cuadernos, kernels, conjuntos de datos, etc.\n",
        "\n",
        "El comando \"kaggle datasets list\" se utiliza para obtener una lista de conjuntos de datos disponibles en Kaggle. Al especificar el argumento \"-s dogbreedidfromcomp\", se le indica a Kaggle que filtre la lista de conjuntos de datos y solo muestre aquellos que contengan el texto \"dogbreedidfromcomp\" en su nombre o descripción."
      ],
      "metadata": {
        "id": "6IfvaHm0uTtO"
      }
    },
    {
      "cell_type": "code",
      "source": [
        "# buscando el dataset\n",
        "lista = !kaggle datasets list -s dogbreedidfromcomp\n",
        "lista"
      ],
      "metadata": {
        "colab": {
          "base_uri": "https://localhost:8080/"
        },
        "id": "jBoBDw3XuCUn",
        "outputId": "6205cf83-ff82-4f26-bb75-9add9c452abd"
      },
      "execution_count": 13,
      "outputs": [
        {
          "output_type": "execute_result",
          "data": {
            "text/plain": [
              "['ref                                title                    size  lastUpdated          downloadCount  voteCount  usabilityRating  ',\n",
              " '---------------------------------  ----------------------  -----  -------------------  -------------  ---------  ---------------  ',\n",
              " 'catherinehorng/dogbreedidfromcomp  dog-breed-id-from-comp  691MB  2020-06-26 03:09:05           3843          8  0.1764706        ']"
            ]
          },
          "metadata": {},
          "execution_count": 13
        }
      ]
    },
    {
      "cell_type": "code",
      "source": [
        "# descargando la data\n",
        "nombre_descarga = lista[2].split()[0]\n",
        "print(f'El nombre del archivo para la descarga es: {nombre_descarga}')\n",
        "\n",
        "!kaggle datasets download {nombre_descarga}\n",
        "%cd .."
      ],
      "metadata": {
        "colab": {
          "base_uri": "https://localhost:8080/"
        },
        "id": "_1GLqySlwBlK",
        "outputId": "923ee7b1-5f0f-461a-8a67-ad0d839bf95b"
      },
      "execution_count": 26,
      "outputs": [
        {
          "output_type": "stream",
          "name": "stdout",
          "text": [
            "El nombre del archivo para la descarga es: catherinehorng/dogbreedidfromcomp\n",
            "Downloading dogbreedidfromcomp.zip to /content\n",
            "100% 688M/691M [00:26<00:00, 27.9MB/s]\n",
            "100% 691M/691M [00:26<00:00, 27.8MB/s]\n",
            "/\n"
          ]
        }
      ]
    },
    {
      "cell_type": "markdown",
      "source": [
        "Después de buscar los datos, el siguiente paso sería descargar los datos en el cuaderno de colab usando las referencias encontradas en la opción de búsqueda.\n",
        "\n",
        "Esta línea de código utiliza el comando unzip para descomprimir el archivo dogbreedidfromcomp.zip. El archivo se encuentra en la carpeta dog_dataset, y la opción -d se utiliza para especificar el directorio de destino donde se extraerán los archivos. En este caso, los archivos se extraerán en la carpeta dog_dataset."
      ],
      "metadata": {
        "id": "4CywLpK6yJpm"
      }
    },
    {
      "cell_type": "code",
      "source": [
        "#pwd\n",
        "!ls"
      ],
      "metadata": {
        "colab": {
          "base_uri": "https://localhost:8080/"
        },
        "id": "WvrIrSLVzey7",
        "outputId": "3336dba8-64e2-4bb9-e62f-9917788be057"
      },
      "execution_count": 38,
      "outputs": [
        {
          "output_type": "stream",
          "name": "stdout",
          "text": [
            "dogbreedidfromcomp.zip\n"
          ]
        }
      ]
    },
    {
      "cell_type": "code",
      "source": [
        "!unzip dogbreedidfromcomp.zip -d dog_dataset"
      ],
      "metadata": {
        "id": "6Q1zolEQwk86"
      },
      "execution_count": 43,
      "outputs": []
    },
    {
      "cell_type": "markdown",
      "source": [
        "\n",
        "La linea \"!rm dogbreedidfromcomp.zip\"  utiliza el comando rm para eliminar el archivo dogbreedidfromcomp.zip. La opción rm se utiliza para eliminar archivos y la ruta especifica el archivo que se desea eliminar. En este caso, se elimina el archivo dogbreedidfromcomp.zip de la carpeta dog_dataset."
      ],
      "metadata": {
        "id": "hyDuYqVg0-Gd"
      }
    },
    {
      "cell_type": "code",
      "source": [
        "!rm dogbreedidfromcomp.zip"
      ],
      "metadata": {
        "id": "M-FDyOdy00Jx"
      },
      "execution_count": 41,
      "outputs": []
    },
    {
      "cell_type": "markdown",
      "source": [
        "no se utilizara el achivo sample_submission.csv asi que tambien se puede borrar."
      ],
      "metadata": {
        "id": "mF_68bCL1Tqw"
      }
    },
    {
      "cell_type": "code",
      "source": [
        "!rm dog_dataset/sample_submission.csv"
      ],
      "metadata": {
        "id": "WG8jG89P1S74"
      },
      "execution_count": 42,
      "outputs": []
    },
    {
      "cell_type": "markdown",
      "source": [
        "Se cargan las librerias a utilizar\n",
        "\n",
        "- `numpy` (importado como `np`): Es una librería de Python utilizada para realizar cálculos numéricos y operaciones matemáticas de manera eficiente. Proporciona estructuras de datos y funciones que permiten realizar operaciones vectorizadas y manipulaciones de matrices.\n",
        "\n",
        "- `pandas` (importado como `pd`): Es una librería de Python utilizada para el análisis y manipulación de datos. Proporciona estructuras de datos de alto rendimiento, como DataFrames, que permiten trabajar con datos tabulares de manera fácil y eficiente.\n",
        "\n",
        "- `matplotlib.pyplot` (importado como `plt`): Es una librería de visualización de datos en Python. Proporciona funciones y herramientas para crear gráficos y visualizaciones, como gráficos de líneas, barras, dispersión y muchos otros tipos de visualizaciones.\n",
        "\n",
        "- `tqdm`: Es una librería de Python que permite crear barras de progreso en bucles y operaciones iterables. Proporciona una forma sencilla de visualizar el progreso de una tarea iterativa.\n",
        "\n",
        "- `keras.preprocessing.image`: Es un módulo de la librería Keras que proporciona funciones para preprocesar imágenes. Permite cargar y procesar imágenes antes de utilizarlas en modelos de aprendizaje automático.\n",
        "\n",
        "- `sklearn.preprocessing.label_binarize`: Es una función de la librería scikit-learn que se utiliza para realizar la binarización de etiquetas. Convierte las etiquetas multiclase en un formato binario, lo que es útil en problemas de clasificación multiclase.\n",
        "\n",
        "- `sklearn.model_selection.train_test_split`: Es una función de scikit-learn que se utiliza para dividir un conjunto de datos en conjuntos de entrenamiento y prueba. Permite separar los datos en muestras de entrenamiento y muestras de prueba para evaluar el rendimiento del modelo.\n",
        "\n",
        "- `keras.models.Sequential`: Es una clase del módulo Keras que se utiliza para crear modelos de redes neuronales secuenciales. Proporciona una forma sencilla de crear y apilar capas en un modelo secuencial.\n",
        "\n",
        "- `keras.layers`: Es un módulo de Keras que contiene diferentes tipos de capas que se pueden utilizar en una red neuronal. Algunos ejemplos incluyen capas densas (`Dense`), capas de convolución (`Conv2D`), capas de reducción de tamaño (`MaxPool2D`), entre otras.\n",
        "\n",
        "- `keras.optimizers.Adam`: Es una clase del módulo Keras que se utiliza para configurar el optimizador Adam. El optimizador Adam es un algoritmo de optimización utilizado para ajustar los pesos de una red neuronal durante el entrenamiento.\n",
        "\n",
        "- `keras.callbacks` : Proporciona una interfaz para personalizar el comportamiento del entrenamiento de un modelo. Callback es una clase base que se puede heredar para crear devoluciones de llamada personalizadas que se ejecutarán en diferentes etapas del entrenamiento del modelo."
      ],
      "metadata": {
        "id": "e2bHYzcl1jAA"
      }
    },
    {
      "cell_type": "code",
      "source": [],
      "metadata": {
        "id": "EbBjqnfb9Xv_"
      },
      "execution_count": 72,
      "outputs": []
    },
    {
      "cell_type": "code",
      "source": [
        "# Librerias:\n",
        "\n",
        "import random\n",
        "import numpy as np\n",
        "import pandas as pd\n",
        "import matplotlib.pyplot as plt\n",
        "\n",
        "from tqdm import tqdm\n",
        "#from keras.preprocessing import image\n",
        "import keras.utils as image\n",
        "from sklearn.preprocessing import label_binarize\n",
        "from sklearn.model_selection import train_test_split\n",
        "from keras.models import Sequential\n",
        "from keras.layers import Dense, Dropout, Flatten, Conv2D, MaxPool2D\n",
        "from keras.optimizers import Adam\n",
        "from keras.callbacks import Callback"
      ],
      "metadata": {
        "id": "rIVJW-SX1jW3"
      },
      "execution_count": 44,
      "outputs": []
    },
    {
      "cell_type": "markdown",
      "source": [
        "Se cargan los datos de las etiquetas en el marco de datos y visualizándolos."
      ],
      "metadata": {
        "id": "ygeMl7lG7S44"
      }
    },
    {
      "cell_type": "code",
      "source": [
        "labels_all = pd.read_csv(\"dog_dataset/labels.csv\")\n",
        "print(labels_all.shape)\n",
        "labels_all.head()"
      ],
      "metadata": {
        "colab": {
          "base_uri": "https://localhost:8080/",
          "height": 224
        },
        "id": "YEFP1ZEp685N",
        "outputId": "95151288-3c15-43cf-dd82-2b477a0475bc"
      },
      "execution_count": 45,
      "outputs": [
        {
          "output_type": "stream",
          "name": "stdout",
          "text": [
            "(10222, 2)\n"
          ]
        },
        {
          "output_type": "execute_result",
          "data": {
            "text/plain": [
              "                                 id             breed\n",
              "0  000bec180eb18c7604dcecc8fe0dba07       boston_bull\n",
              "1  001513dfcb2ffafc82cccf4d8bbaba97             dingo\n",
              "2  001cdf01b096e06d78e9e5112d419397          pekinese\n",
              "3  00214f311d5d2247d5dfe4fe24b2303d          bluetick\n",
              "4  0021f9ceb3235effd7fcde7f7538ed62  golden_retriever"
            ],
            "text/html": [
              "\n",
              "\n",
              "  <div id=\"df-c98b95c0-4371-4b9b-9e56-fcd80d85404a\">\n",
              "    <div class=\"colab-df-container\">\n",
              "      <div>\n",
              "<style scoped>\n",
              "    .dataframe tbody tr th:only-of-type {\n",
              "        vertical-align: middle;\n",
              "    }\n",
              "\n",
              "    .dataframe tbody tr th {\n",
              "        vertical-align: top;\n",
              "    }\n",
              "\n",
              "    .dataframe thead th {\n",
              "        text-align: right;\n",
              "    }\n",
              "</style>\n",
              "<table border=\"1\" class=\"dataframe\">\n",
              "  <thead>\n",
              "    <tr style=\"text-align: right;\">\n",
              "      <th></th>\n",
              "      <th>id</th>\n",
              "      <th>breed</th>\n",
              "    </tr>\n",
              "  </thead>\n",
              "  <tbody>\n",
              "    <tr>\n",
              "      <th>0</th>\n",
              "      <td>000bec180eb18c7604dcecc8fe0dba07</td>\n",
              "      <td>boston_bull</td>\n",
              "    </tr>\n",
              "    <tr>\n",
              "      <th>1</th>\n",
              "      <td>001513dfcb2ffafc82cccf4d8bbaba97</td>\n",
              "      <td>dingo</td>\n",
              "    </tr>\n",
              "    <tr>\n",
              "      <th>2</th>\n",
              "      <td>001cdf01b096e06d78e9e5112d419397</td>\n",
              "      <td>pekinese</td>\n",
              "    </tr>\n",
              "    <tr>\n",
              "      <th>3</th>\n",
              "      <td>00214f311d5d2247d5dfe4fe24b2303d</td>\n",
              "      <td>bluetick</td>\n",
              "    </tr>\n",
              "    <tr>\n",
              "      <th>4</th>\n",
              "      <td>0021f9ceb3235effd7fcde7f7538ed62</td>\n",
              "      <td>golden_retriever</td>\n",
              "    </tr>\n",
              "  </tbody>\n",
              "</table>\n",
              "</div>\n",
              "      <button class=\"colab-df-convert\" onclick=\"convertToInteractive('df-c98b95c0-4371-4b9b-9e56-fcd80d85404a')\"\n",
              "              title=\"Convert this dataframe to an interactive table.\"\n",
              "              style=\"display:none;\">\n",
              "\n",
              "  <svg xmlns=\"http://www.w3.org/2000/svg\" height=\"24px\"viewBox=\"0 0 24 24\"\n",
              "       width=\"24px\">\n",
              "    <path d=\"M0 0h24v24H0V0z\" fill=\"none\"/>\n",
              "    <path d=\"M18.56 5.44l.94 2.06.94-2.06 2.06-.94-2.06-.94-.94-2.06-.94 2.06-2.06.94zm-11 1L8.5 8.5l.94-2.06 2.06-.94-2.06-.94L8.5 2.5l-.94 2.06-2.06.94zm10 10l.94 2.06.94-2.06 2.06-.94-2.06-.94-.94-2.06-.94 2.06-2.06.94z\"/><path d=\"M17.41 7.96l-1.37-1.37c-.4-.4-.92-.59-1.43-.59-.52 0-1.04.2-1.43.59L10.3 9.45l-7.72 7.72c-.78.78-.78 2.05 0 2.83L4 21.41c.39.39.9.59 1.41.59.51 0 1.02-.2 1.41-.59l7.78-7.78 2.81-2.81c.8-.78.8-2.07 0-2.86zM5.41 20L4 18.59l7.72-7.72 1.47 1.35L5.41 20z\"/>\n",
              "  </svg>\n",
              "      </button>\n",
              "\n",
              "\n",
              "\n",
              "    <div id=\"df-876535bc-902c-4dd4-aa3b-9e95085cc20a\">\n",
              "      <button class=\"colab-df-quickchart\" onclick=\"quickchart('df-876535bc-902c-4dd4-aa3b-9e95085cc20a')\"\n",
              "              title=\"Suggest charts.\"\n",
              "              style=\"display:none;\">\n",
              "\n",
              "<svg xmlns=\"http://www.w3.org/2000/svg\" height=\"24px\"viewBox=\"0 0 24 24\"\n",
              "     width=\"24px\">\n",
              "    <g>\n",
              "        <path d=\"M19 3H5c-1.1 0-2 .9-2 2v14c0 1.1.9 2 2 2h14c1.1 0 2-.9 2-2V5c0-1.1-.9-2-2-2zM9 17H7v-7h2v7zm4 0h-2V7h2v10zm4 0h-2v-4h2v4z\"/>\n",
              "    </g>\n",
              "</svg>\n",
              "      </button>\n",
              "    </div>\n",
              "\n",
              "<style>\n",
              "  .colab-df-quickchart {\n",
              "    background-color: #E8F0FE;\n",
              "    border: none;\n",
              "    border-radius: 50%;\n",
              "    cursor: pointer;\n",
              "    display: none;\n",
              "    fill: #1967D2;\n",
              "    height: 32px;\n",
              "    padding: 0 0 0 0;\n",
              "    width: 32px;\n",
              "  }\n",
              "\n",
              "  .colab-df-quickchart:hover {\n",
              "    background-color: #E2EBFA;\n",
              "    box-shadow: 0px 1px 2px rgba(60, 64, 67, 0.3), 0px 1px 3px 1px rgba(60, 64, 67, 0.15);\n",
              "    fill: #174EA6;\n",
              "  }\n",
              "\n",
              "  [theme=dark] .colab-df-quickchart {\n",
              "    background-color: #3B4455;\n",
              "    fill: #D2E3FC;\n",
              "  }\n",
              "\n",
              "  [theme=dark] .colab-df-quickchart:hover {\n",
              "    background-color: #434B5C;\n",
              "    box-shadow: 0px 1px 3px 1px rgba(0, 0, 0, 0.15);\n",
              "    filter: drop-shadow(0px 1px 2px rgba(0, 0, 0, 0.3));\n",
              "    fill: #FFFFFF;\n",
              "  }\n",
              "</style>\n",
              "\n",
              "    <script>\n",
              "      async function quickchart(key) {\n",
              "        const containerElement = document.querySelector('#' + key);\n",
              "        const charts = await google.colab.kernel.invokeFunction(\n",
              "            'suggestCharts', [key], {});\n",
              "      }\n",
              "    </script>\n",
              "\n",
              "      <script>\n",
              "\n",
              "function displayQuickchartButton(domScope) {\n",
              "  let quickchartButtonEl =\n",
              "    domScope.querySelector('#df-876535bc-902c-4dd4-aa3b-9e95085cc20a button.colab-df-quickchart');\n",
              "  quickchartButtonEl.style.display =\n",
              "    google.colab.kernel.accessAllowed ? 'block' : 'none';\n",
              "}\n",
              "\n",
              "        displayQuickchartButton(document);\n",
              "      </script>\n",
              "      <style>\n",
              "    .colab-df-container {\n",
              "      display:flex;\n",
              "      flex-wrap:wrap;\n",
              "      gap: 12px;\n",
              "    }\n",
              "\n",
              "    .colab-df-convert {\n",
              "      background-color: #E8F0FE;\n",
              "      border: none;\n",
              "      border-radius: 50%;\n",
              "      cursor: pointer;\n",
              "      display: none;\n",
              "      fill: #1967D2;\n",
              "      height: 32px;\n",
              "      padding: 0 0 0 0;\n",
              "      width: 32px;\n",
              "    }\n",
              "\n",
              "    .colab-df-convert:hover {\n",
              "      background-color: #E2EBFA;\n",
              "      box-shadow: 0px 1px 2px rgba(60, 64, 67, 0.3), 0px 1px 3px 1px rgba(60, 64, 67, 0.15);\n",
              "      fill: #174EA6;\n",
              "    }\n",
              "\n",
              "    [theme=dark] .colab-df-convert {\n",
              "      background-color: #3B4455;\n",
              "      fill: #D2E3FC;\n",
              "    }\n",
              "\n",
              "    [theme=dark] .colab-df-convert:hover {\n",
              "      background-color: #434B5C;\n",
              "      box-shadow: 0px 1px 3px 1px rgba(0, 0, 0, 0.15);\n",
              "      filter: drop-shadow(0px 1px 2px rgba(0, 0, 0, 0.3));\n",
              "      fill: #FFFFFF;\n",
              "    }\n",
              "  </style>\n",
              "\n",
              "      <script>\n",
              "        const buttonEl =\n",
              "          document.querySelector('#df-c98b95c0-4371-4b9b-9e56-fcd80d85404a button.colab-df-convert');\n",
              "        buttonEl.style.display =\n",
              "          google.colab.kernel.accessAllowed ? 'block' : 'none';\n",
              "\n",
              "        async function convertToInteractive(key) {\n",
              "          const element = document.querySelector('#df-c98b95c0-4371-4b9b-9e56-fcd80d85404a');\n",
              "          const dataTable =\n",
              "            await google.colab.kernel.invokeFunction('convertToInteractive',\n",
              "                                                     [key], {});\n",
              "          if (!dataTable) return;\n",
              "\n",
              "          const docLinkHtml = 'Like what you see? Visit the ' +\n",
              "            '<a target=\"_blank\" href=https://colab.research.google.com/notebooks/data_table.ipynb>data table notebook</a>'\n",
              "            + ' to learn more about interactive tables.';\n",
              "          element.innerHTML = '';\n",
              "          dataTable['output_type'] = 'display_data';\n",
              "          await google.colab.output.renderOutput(dataTable, element);\n",
              "          const docLink = document.createElement('div');\n",
              "          docLink.innerHTML = docLinkHtml;\n",
              "          element.appendChild(docLink);\n",
              "        }\n",
              "      </script>\n",
              "    </div>\n",
              "  </div>\n"
            ]
          },
          "metadata": {},
          "execution_count": 45
        }
      ]
    },
    {
      "cell_type": "code",
      "source": [
        "# se visualiza el número de cada raza\n",
        "breeds_all = labels_all[\"breed\"]\n",
        "breed_counts = breeds_all.value_counts()\n",
        "print(f'Hay {len(breed_counts)} razas de perro, cada raza tiene como minimo {breed_counts.min()} imagenes asociadas')\n",
        "breed_counts.head()"
      ],
      "metadata": {
        "colab": {
          "base_uri": "https://localhost:8080/"
        },
        "id": "dmwYFoK77kXI",
        "outputId": "acf5419a-43cd-4639-cd25-f884833d3d85"
      },
      "execution_count": 54,
      "outputs": [
        {
          "output_type": "stream",
          "name": "stdout",
          "text": [
            "Hay 120 razas de perro, cada raza tiene como minimo 66 imagenes asociadas \n"
          ]
        },
        {
          "output_type": "execute_result",
          "data": {
            "text/plain": [
              "scottish_deerhound      126\n",
              "maltese_dog             117\n",
              "afghan_hound            116\n",
              "entlebucher             115\n",
              "bernese_mountain_dog    114\n",
              "Name: breed, dtype: int64"
            ]
          },
          "metadata": {},
          "execution_count": 54
        }
      ]
    },
    {
      "cell_type": "markdown",
      "source": [
        "Se trabajan con solo 3 razas debido al poder computacional limitado."
      ],
      "metadata": {
        "id": "ziERg2gl-Hl-"
      }
    },
    {
      "cell_type": "code",
      "source": [
        "# Se seleccionan al azar 3 razas\n",
        "CLASS_NAMES = random.sample(list(breed_counts.index),3)\n",
        "#CLASS_NAMES = ['scottish_deerhound','maltese_dog','bernese_mountain_dog']\n",
        "labels = labels_all[(labels_all['breed'].isin(CLASS_NAMES))]\n",
        "labels = labels.reset_index()\n",
        "labels.head()"
      ],
      "metadata": {
        "colab": {
          "base_uri": "https://localhost:8080/",
          "height": 206
        },
        "id": "_gpPoT0s87TZ",
        "outputId": "3ce6b423-f7b3-4df0-82d6-d383686a4654"
      },
      "execution_count": 68,
      "outputs": [
        {
          "output_type": "execute_result",
          "data": {
            "text/plain": [
              "   index                                id                   breed\n",
              "0     29  00bee065dcec471f26394855c5c2f3de                   cairn\n",
              "1     83  01f8540fb1084107a6eb3e528f82c1aa  welsh_springer_spaniel\n",
              "2    123  02ef5f19db8cf4da62016a1067bdc548  welsh_springer_spaniel\n",
              "3    144  0365fe4e3e13a885c6b02ebbbf2d9173                   cairn\n",
              "4    157  03c81a2e78dc915bc515fcb8aafd2f6f                   cairn"
            ],
            "text/html": [
              "\n",
              "\n",
              "  <div id=\"df-772e0f6c-1ed6-4753-a23f-b771e4d99309\">\n",
              "    <div class=\"colab-df-container\">\n",
              "      <div>\n",
              "<style scoped>\n",
              "    .dataframe tbody tr th:only-of-type {\n",
              "        vertical-align: middle;\n",
              "    }\n",
              "\n",
              "    .dataframe tbody tr th {\n",
              "        vertical-align: top;\n",
              "    }\n",
              "\n",
              "    .dataframe thead th {\n",
              "        text-align: right;\n",
              "    }\n",
              "</style>\n",
              "<table border=\"1\" class=\"dataframe\">\n",
              "  <thead>\n",
              "    <tr style=\"text-align: right;\">\n",
              "      <th></th>\n",
              "      <th>index</th>\n",
              "      <th>id</th>\n",
              "      <th>breed</th>\n",
              "    </tr>\n",
              "  </thead>\n",
              "  <tbody>\n",
              "    <tr>\n",
              "      <th>0</th>\n",
              "      <td>29</td>\n",
              "      <td>00bee065dcec471f26394855c5c2f3de</td>\n",
              "      <td>cairn</td>\n",
              "    </tr>\n",
              "    <tr>\n",
              "      <th>1</th>\n",
              "      <td>83</td>\n",
              "      <td>01f8540fb1084107a6eb3e528f82c1aa</td>\n",
              "      <td>welsh_springer_spaniel</td>\n",
              "    </tr>\n",
              "    <tr>\n",
              "      <th>2</th>\n",
              "      <td>123</td>\n",
              "      <td>02ef5f19db8cf4da62016a1067bdc548</td>\n",
              "      <td>welsh_springer_spaniel</td>\n",
              "    </tr>\n",
              "    <tr>\n",
              "      <th>3</th>\n",
              "      <td>144</td>\n",
              "      <td>0365fe4e3e13a885c6b02ebbbf2d9173</td>\n",
              "      <td>cairn</td>\n",
              "    </tr>\n",
              "    <tr>\n",
              "      <th>4</th>\n",
              "      <td>157</td>\n",
              "      <td>03c81a2e78dc915bc515fcb8aafd2f6f</td>\n",
              "      <td>cairn</td>\n",
              "    </tr>\n",
              "  </tbody>\n",
              "</table>\n",
              "</div>\n",
              "      <button class=\"colab-df-convert\" onclick=\"convertToInteractive('df-772e0f6c-1ed6-4753-a23f-b771e4d99309')\"\n",
              "              title=\"Convert this dataframe to an interactive table.\"\n",
              "              style=\"display:none;\">\n",
              "\n",
              "  <svg xmlns=\"http://www.w3.org/2000/svg\" height=\"24px\"viewBox=\"0 0 24 24\"\n",
              "       width=\"24px\">\n",
              "    <path d=\"M0 0h24v24H0V0z\" fill=\"none\"/>\n",
              "    <path d=\"M18.56 5.44l.94 2.06.94-2.06 2.06-.94-2.06-.94-.94-2.06-.94 2.06-2.06.94zm-11 1L8.5 8.5l.94-2.06 2.06-.94-2.06-.94L8.5 2.5l-.94 2.06-2.06.94zm10 10l.94 2.06.94-2.06 2.06-.94-2.06-.94-.94-2.06-.94 2.06-2.06.94z\"/><path d=\"M17.41 7.96l-1.37-1.37c-.4-.4-.92-.59-1.43-.59-.52 0-1.04.2-1.43.59L10.3 9.45l-7.72 7.72c-.78.78-.78 2.05 0 2.83L4 21.41c.39.39.9.59 1.41.59.51 0 1.02-.2 1.41-.59l7.78-7.78 2.81-2.81c.8-.78.8-2.07 0-2.86zM5.41 20L4 18.59l7.72-7.72 1.47 1.35L5.41 20z\"/>\n",
              "  </svg>\n",
              "      </button>\n",
              "\n",
              "\n",
              "\n",
              "    <div id=\"df-26d1749d-4df3-4455-98ac-22573d6129ca\">\n",
              "      <button class=\"colab-df-quickchart\" onclick=\"quickchart('df-26d1749d-4df3-4455-98ac-22573d6129ca')\"\n",
              "              title=\"Suggest charts.\"\n",
              "              style=\"display:none;\">\n",
              "\n",
              "<svg xmlns=\"http://www.w3.org/2000/svg\" height=\"24px\"viewBox=\"0 0 24 24\"\n",
              "     width=\"24px\">\n",
              "    <g>\n",
              "        <path d=\"M19 3H5c-1.1 0-2 .9-2 2v14c0 1.1.9 2 2 2h14c1.1 0 2-.9 2-2V5c0-1.1-.9-2-2-2zM9 17H7v-7h2v7zm4 0h-2V7h2v10zm4 0h-2v-4h2v4z\"/>\n",
              "    </g>\n",
              "</svg>\n",
              "      </button>\n",
              "    </div>\n",
              "\n",
              "<style>\n",
              "  .colab-df-quickchart {\n",
              "    background-color: #E8F0FE;\n",
              "    border: none;\n",
              "    border-radius: 50%;\n",
              "    cursor: pointer;\n",
              "    display: none;\n",
              "    fill: #1967D2;\n",
              "    height: 32px;\n",
              "    padding: 0 0 0 0;\n",
              "    width: 32px;\n",
              "  }\n",
              "\n",
              "  .colab-df-quickchart:hover {\n",
              "    background-color: #E2EBFA;\n",
              "    box-shadow: 0px 1px 2px rgba(60, 64, 67, 0.3), 0px 1px 3px 1px rgba(60, 64, 67, 0.15);\n",
              "    fill: #174EA6;\n",
              "  }\n",
              "\n",
              "  [theme=dark] .colab-df-quickchart {\n",
              "    background-color: #3B4455;\n",
              "    fill: #D2E3FC;\n",
              "  }\n",
              "\n",
              "  [theme=dark] .colab-df-quickchart:hover {\n",
              "    background-color: #434B5C;\n",
              "    box-shadow: 0px 1px 3px 1px rgba(0, 0, 0, 0.15);\n",
              "    filter: drop-shadow(0px 1px 2px rgba(0, 0, 0, 0.3));\n",
              "    fill: #FFFFFF;\n",
              "  }\n",
              "</style>\n",
              "\n",
              "    <script>\n",
              "      async function quickchart(key) {\n",
              "        const containerElement = document.querySelector('#' + key);\n",
              "        const charts = await google.colab.kernel.invokeFunction(\n",
              "            'suggestCharts', [key], {});\n",
              "      }\n",
              "    </script>\n",
              "\n",
              "      <script>\n",
              "\n",
              "function displayQuickchartButton(domScope) {\n",
              "  let quickchartButtonEl =\n",
              "    domScope.querySelector('#df-26d1749d-4df3-4455-98ac-22573d6129ca button.colab-df-quickchart');\n",
              "  quickchartButtonEl.style.display =\n",
              "    google.colab.kernel.accessAllowed ? 'block' : 'none';\n",
              "}\n",
              "\n",
              "        displayQuickchartButton(document);\n",
              "      </script>\n",
              "      <style>\n",
              "    .colab-df-container {\n",
              "      display:flex;\n",
              "      flex-wrap:wrap;\n",
              "      gap: 12px;\n",
              "    }\n",
              "\n",
              "    .colab-df-convert {\n",
              "      background-color: #E8F0FE;\n",
              "      border: none;\n",
              "      border-radius: 50%;\n",
              "      cursor: pointer;\n",
              "      display: none;\n",
              "      fill: #1967D2;\n",
              "      height: 32px;\n",
              "      padding: 0 0 0 0;\n",
              "      width: 32px;\n",
              "    }\n",
              "\n",
              "    .colab-df-convert:hover {\n",
              "      background-color: #E2EBFA;\n",
              "      box-shadow: 0px 1px 2px rgba(60, 64, 67, 0.3), 0px 1px 3px 1px rgba(60, 64, 67, 0.15);\n",
              "      fill: #174EA6;\n",
              "    }\n",
              "\n",
              "    [theme=dark] .colab-df-convert {\n",
              "      background-color: #3B4455;\n",
              "      fill: #D2E3FC;\n",
              "    }\n",
              "\n",
              "    [theme=dark] .colab-df-convert:hover {\n",
              "      background-color: #434B5C;\n",
              "      box-shadow: 0px 1px 3px 1px rgba(0, 0, 0, 0.15);\n",
              "      filter: drop-shadow(0px 1px 2px rgba(0, 0, 0, 0.3));\n",
              "      fill: #FFFFFF;\n",
              "    }\n",
              "  </style>\n",
              "\n",
              "      <script>\n",
              "        const buttonEl =\n",
              "          document.querySelector('#df-772e0f6c-1ed6-4753-a23f-b771e4d99309 button.colab-df-convert');\n",
              "        buttonEl.style.display =\n",
              "          google.colab.kernel.accessAllowed ? 'block' : 'none';\n",
              "\n",
              "        async function convertToInteractive(key) {\n",
              "          const element = document.querySelector('#df-772e0f6c-1ed6-4753-a23f-b771e4d99309');\n",
              "          const dataTable =\n",
              "            await google.colab.kernel.invokeFunction('convertToInteractive',\n",
              "                                                     [key], {});\n",
              "          if (!dataTable) return;\n",
              "\n",
              "          const docLinkHtml = 'Like what you see? Visit the ' +\n",
              "            '<a target=\"_blank\" href=https://colab.research.google.com/notebooks/data_table.ipynb>data table notebook</a>'\n",
              "            + ' to learn more about interactive tables.';\n",
              "          element.innerHTML = '';\n",
              "          dataTable['output_type'] = 'display_data';\n",
              "          await google.colab.output.renderOutput(dataTable, element);\n",
              "          const docLink = document.createElement('div');\n",
              "          docLink.innerHTML = docLinkHtml;\n",
              "          element.appendChild(docLink);\n",
              "        }\n",
              "      </script>\n",
              "    </div>\n",
              "  </div>\n"
            ]
          },
          "metadata": {},
          "execution_count": 68
        }
      ]
    },
    {
      "cell_type": "markdown",
      "source": [
        " Se procede a crear una matriz numpy llamada X_data para almacenar imágenes de entrenamiento. Las imágenes se leen de la carpeta 'dog_dataset/train', se convierten en matrices numpy y se normalizan. También se realiza la codificación one-hot de las etiquetas de clase y se almacenan en la matriz Y_data. Finalmente, se imprime la forma y el tamaño de las matrices X_data y Y_data."
      ],
      "metadata": {
        "id": "gEc1lbLL-yRU"
      }
    },
    {
      "cell_type": "code",
      "source": [
        "# Creando una matriz numpy con ceros:\n",
        "# La línea de código crea una matriz numpy llamada X_data con dimensiones\n",
        "# (número de etiquetas, 224, 224, 3), donde 224x224 es el tamaño de la imagen y\n",
        "#  3 representa los canales de color RGB.\n",
        "#  La matriz se inicializa con ceros y se especifica el tipo de datos como 'float32'.\n",
        "X_data = np.zeros((len(labels), 224, 224, 3), dtype='float32')\n",
        "\n",
        "\n",
        "# Codificación one-hot:\n",
        "# La línea de código utiliza la función label_binarize de scikit-learn\n",
        "# para realizar la codificación one-hot de las etiquetas de clase.\n",
        "# La columna 'breed' del dataframe 'labels' se pasa como entrada,\n",
        "# junto con la lista de nombres de clases 'CLASS_NAMES'.\n",
        "# El resultado es una matriz binaria donde cada fila\n",
        "# representa una etiqueta codificada en formato one-hot.\n",
        "Y_data = label_binarize(labels['breed'], classes=CLASS_NAMES)\n",
        "\n",
        "\n",
        "# Leyendo y convirtiendo la imagen en una matriz numpy y normalizando el conjunto de datos:\n",
        "# Este bucle recorre cada etiqueta en el dataframe 'labels'.\n",
        "# Para cada etiqueta, se lee la imagen correspondiente desde\n",
        "# la carpeta 'dog_dataset/train' y se redimensiona al tamaño\n",
        "# especificado de (224, 224) píxeles. Luego, la imagen se convierte en una\n",
        "# matriz numpy utilizando la función img_to_array de Keras.\n",
        "# A continuación, se expande la dimensión de la matriz para que\n",
        "# tenga forma (1, 224, 224, 3). La matriz resultante se asigna a la\n",
        "# posición correspondiente en la matriz X_data, y se normaliza\n",
        "# dividiendo por 255.0 para escalar los valores de píxeles en el rango de 0 a 1.\n",
        "for i in tqdm(range(len(labels))):\n",
        "    img = image.load_img('dog_dataset/train/%s.jpg' % labels['id'][i], target_size=(224, 224))\n",
        "    img = image.img_to_array(img)\n",
        "    x = np.expand_dims(img.copy(), axis=0)\n",
        "    X_data[i] = x / 255.0\n",
        "\n",
        "\n",
        "# Imprimiendo la forma y el tamaño de las imágenes de entrenamiento y la codificación one-hot:\n",
        "# Ahora se imprimen la forma y el tamaño de la matriz X_data,\n",
        "# que representa las imágenes de entrenamiento.\n",
        "# La forma muestra el número de imágenes, el tamaño espacial (224x224)\n",
        "# y los canales de color (3). El tamaño se calcula multiplicando las\n",
        "# dimensiones de la matriz. Luego, se imprime la forma y el tamaño de la\n",
        "# matriz Y_data, que representa las etiquetas codificadas en formato one-hot.\n",
        "print('\\nTrain Images shape: ', X_data.shape, ' size: {:,}'.format(X_data.size))\n",
        "print('One-hot encoded output shape: ', Y_data.shape, ' size: {:,}'.format(Y_data.size))\n",
        "\n"
      ],
      "metadata": {
        "colab": {
          "base_uri": "https://localhost:8080/"
        },
        "id": "4Xy0vUje-710",
        "outputId": "7045d6e7-9948-4902-8ab8-6e1404641e8f"
      },
      "execution_count": 71,
      "outputs": [
        {
          "output_type": "stream",
          "name": "stderr",
          "text": [
            "100%|██████████| 255/255 [00:01<00:00, 132.75it/s]"
          ]
        },
        {
          "output_type": "stream",
          "name": "stdout",
          "text": [
            "\n",
            "Train Images shape:  (255, 224, 224, 3)  size: 38,384,640\n",
            "One-hot encoded output shape:  (255, 3)  size: 765\n"
          ]
        },
        {
          "output_type": "stream",
          "name": "stderr",
          "text": [
            "\n"
          ]
        }
      ]
    },
    {
      "cell_type": "markdown",
      "source": [
        "A continuacion se define y construye un modelo de red neuronal convolucional (CNN) utilizando la biblioteca Keras. A continuación se detalla el funcionamiento de cada línea:\n",
        "\n",
        "Se importa la clase Sequential de Keras, que permite construir modelos secuenciales capa por capa.\n",
        "\n",
        "Se instancia un objeto del modelo secuencial llamado \"model\".\n",
        "\n",
        "Se agregan capas convolucionales a \"model\" utilizando la función add(). En cada capa convolucional, se especifica el número de filtros, el tamaño del kernel, la función de activación y otras configuraciones. Estas capas extraen características de las imágenes de entrada.\n",
        "\n",
        "Se agregan capas de MaxPooling2D para reducir la dimensionalidad de las características extraídas. Estas capas realizan un muestreo máximo en regiones específicas de las características.\n",
        "\n",
        "Se agrega una capa Flatten para convertir los datos de entrada multidimensionales en un vector unidimensional.\n",
        "\n",
        "Se agregan capas densas (fully connected) para realizar la clasificación final. Estas capas están compuestas por neuronas conectadas completamente entre sí.\n",
        "\n",
        "Se especifica la función de activación, el regularizador y otras configuraciones para cada capa densa.\n",
        "\n",
        "Se compila el modelo utilizando el método compile(). Se especifica la función de pérdida, el optimizador y las métricas para evaluar el rendimiento del modelo.\n",
        "\n",
        "Se utiliza el método summary() para imprimir un resumen del modelo, que muestra la estructura de cada capa, el número de parámetros entrenables y otras información relevante.\n",
        "\n",
        "\n",
        "\n",
        "\n",
        "notas: https://www.youtube.com/watch?v=4sWhhQwHqug\n",
        "Redes Neuronales Convolucionales - Clasificación avanzada de imágenes con IA / ML (CNN)"
      ],
      "metadata": {
        "id": "U6mMKjIhcGfx"
      }
    },
    {
      "cell_type": "code",
      "source": [
        "#Se crea un objeto de modelo secuencial, que es una pila lineal de capas.\n",
        "model = Sequential()\n",
        "\n",
        "\n",
        "# Se agrega una capa de convolución con 64 filtros,\n",
        "# un tamaño de kernel de 5x5 y una función de activación relu.\n",
        "# Luego se agrega una capa de agrupación máxima con un tamaño de agrupación de 2x2.\n",
        "# Esta combinación de capas convolucionales y de agrupación\n",
        "# se utiliza para extraer características de la imagen.\n",
        "# \"input_shape = (224,224,3)\": Esta especificación se utiliza en la capa inicial del\n",
        "# modelo para definir las dimensiones de las imágenes de entrada. En este caso, se\n",
        "# establece que las imágenes tienen una altura y anchura de 224 píxeles y 3 canales\n",
        "# de color (RGB). Es decir, se espera que las imágenes de entrada tengan un tamaño\n",
        "# de 224x224 píxeles y tres canales de color (rojo, verde y azul).\n",
        "# Esto es importante para asegurar que las imágenes se ajusten correctamente\n",
        "# al modelo y se puedan procesar adecuadamente en las capas convolucionales.\n",
        "model.add(Conv2D(filters = 64, kernel_size = (5,5), activation ='relu', input_shape = (224,224,3)))\n",
        "model.add(MaxPool2D(pool_size=(2,2)))\n",
        "\n",
        "\n",
        "# Se agrega otra capa de convolución con 32 filtros,\n",
        "# un tamaño de kernel de 3x3, una función de activación relu\n",
        "# y una regularización L2. Luego se agrega otra capa de agrupación máxima.\n",
        "# \"kernel_regularizer = 'l2'\": Esta configuración se utiliza en\n",
        "# las capas convolucionales para aplicar una regularización L2 a\n",
        "# los pesos del modelo. La regularización L2 es una técnica que penaliza\n",
        "# los pesos grandes en la función de pérdida del modelo, lo que ayuda a\n",
        "# evitar el sobreajuste. Al utilizar 'l2' como valor para el parámetro\n",
        "# kernel_regularizer, se aplica la regularización L2 a los pesos de las\n",
        "# capas convolucionales. Esto contribuye a limitar la complejidad del\n",
        "# modelo y mejorar su capacidad de generalización.\n",
        "model.add(Conv2D(filters = 32, kernel_size = (3,3), activation ='relu', kernel_regularizer = 'l2'))\n",
        "model.add(MaxPool2D(pool_size=(2,2)))\n",
        "\n",
        "\n",
        "\n",
        "# Se agrega una tercera capa de convolución con 16 filtros,\n",
        "# un tamaño de kernel de 7x7, una función de activación\n",
        "# relu y una regularización L2. Luego se agrega otra capa de agrupación máxima.\n",
        "# \"activation = 'relu'\": La función de activación relu (Rectified Linear Unit)\n",
        "# es una función no lineal ampliamente utilizada en las capas ocultas de una red neuronal.\n",
        "# La función relu toma un valor de entrada y devuelve el mismo valor si es mayor que cero,\n",
        "#  y cero en caso contrario. Su fórmula matemática es f(x) = max(0, x).\n",
        "#  La función relu es popular debido a su simplicidad y eficiencia computacional,\n",
        "#  y ha demostrado funcionar bien en muchas aplicaciones de aprendizaje profundo.\n",
        "#  Ayuda a introducir la no linealidad en la red y a aprender representaciones\n",
        "#  más complejas de los datos.\n",
        "model.add(Conv2D(filters = 16, kernel_size = (7,7), activation ='relu', kernel_regularizer = 'l2'))\n",
        "model.add(MaxPool2D(pool_size=(2,2)))\n",
        "\n",
        "\n",
        "\n",
        "# Se agrega una cuarta capa de convolución con 8 filtros,\n",
        "# un tamaño de kernel de 5x5, una función de activación relu y\n",
        "# una regularización L2. Luego se agrega otra capa de agrupación máxima.\n",
        "model.add(Conv2D(filters = 8, kernel_size = (5,5), activation ='relu', kernel_regularizer = 'l2'))\n",
        "model.add(MaxPool2D(pool_size=(2,2)))\n",
        "\n",
        "\n",
        "\n",
        "\n",
        "# Se agrega una capa de aplanamiento que convierte los datos en un vector unidimensional.\n",
        "# Luego se agregan dos capas densas con funciones de activación relu y regularización L2.\n",
        "# La última capa densa utiliza una función de activación softmax para la clasificación multiclase.\n",
        "# \"activation = 'softmax'\": La función de activación softmax es comúnmente\n",
        "# utilizada en la capa de salida de una red neuronal cuando se trata de un\n",
        "# problema de clasificación multiclase. La función softmax toma un vector\n",
        "# de valores reales y calcula una distribución de probabilidad sobre las clases de salida.\n",
        "# Asigna una probabilidad a cada clase, asegurándose de que la suma de todas las\n",
        "# probabilidades sea igual a 1. La función softmax es útil cuando se desea obtener\n",
        "# la probabilidad de pertenencia a cada clase en un problema de clasificación multiclase.\n",
        "model.add(Flatten())\n",
        "model.add(Dense(128, activation = \"relu\", kernel_regularizer = 'l2'))\n",
        "model.add(Dense(64, activation = \"relu\", kernel_regularizer = 'l2'))\n",
        "model.add(Dense(len(CLASS_NAMES), activation = \"softmax\"))\n",
        "\n",
        "# Se compila el modelo especificando la función de pérdida 'categorical_crossentropy',\n",
        "# el optimizador Adam con una tasa de aprendizaje de 0.0001 y la métrica de precisión.\n",
        "model.compile(loss = 'categorical_crossentropy', optimizer = Adam(0.0001),metrics=['accuracy'])\n",
        "\n",
        "# Se imprime un resumen del modelo, mostrando la arquitectura de las capas y\n",
        "# el número de parámetros entrenables.\n",
        "model.summary()"
      ],
      "metadata": {
        "colab": {
          "base_uri": "https://localhost:8080/"
        },
        "id": "RXcbU1clFB4Q",
        "outputId": "7197a774-6ac5-4808-a31f-3c7b469e6ab5"
      },
      "execution_count": 82,
      "outputs": [
        {
          "output_type": "stream",
          "name": "stdout",
          "text": [
            "Model: \"sequential\"\n",
            "_________________________________________________________________\n",
            " Layer (type)                Output Shape              Param #   \n",
            "=================================================================\n",
            " conv2d (Conv2D)             (None, 220, 220, 64)      4864      \n",
            "                                                                 \n",
            " max_pooling2d (MaxPooling2D  (None, 110, 110, 64)     0         \n",
            " )                                                               \n",
            "                                                                 \n",
            " conv2d_1 (Conv2D)           (None, 108, 108, 32)      18464     \n",
            "                                                                 \n",
            " max_pooling2d_1 (MaxPooling  (None, 54, 54, 32)       0         \n",
            " 2D)                                                             \n",
            "                                                                 \n",
            " conv2d_2 (Conv2D)           (None, 48, 48, 16)        25104     \n",
            "                                                                 \n",
            " max_pooling2d_2 (MaxPooling  (None, 24, 24, 16)       0         \n",
            " 2D)                                                             \n",
            "                                                                 \n",
            " conv2d_3 (Conv2D)           (None, 20, 20, 8)         3208      \n",
            "                                                                 \n",
            " max_pooling2d_3 (MaxPooling  (None, 10, 10, 8)        0         \n",
            " 2D)                                                             \n",
            "                                                                 \n",
            " flatten (Flatten)           (None, 800)               0         \n",
            "                                                                 \n",
            " dense (Dense)               (None, 128)               102528    \n",
            "                                                                 \n",
            " dense_1 (Dense)             (None, 64)                8256      \n",
            "                                                                 \n",
            " dense_2 (Dense)             (None, 3)                 195       \n",
            "                                                                 \n",
            "=================================================================\n",
            "Total params: 162,619\n",
            "Trainable params: 162,619\n",
            "Non-trainable params: 0\n",
            "_________________________________________________________________\n"
          ]
        }
      ]
    },
    {
      "cell_type": "markdown",
      "source": [
        "Después de definir la arquitectura de la red, se divide el conjunto de datos y el conjunto de etiquetas en conjuntos de entrenamiento, validación y prueba utilizando la función train_test_split. La división se realiza para tener conjuntos independientes que se utilizarán en diferentes etapas del proceso de entrenamiento y evaluación del modelo de aprendizaje automático. El conjunto de entrenamiento se utiliza para ajustar los parámetros del modelo, el conjunto de validación se utiliza para ajustar los hiperparámetros y evaluar el rendimiento durante el entrenamiento, y el conjunto de prueba se utiliza para evaluar el rendimiento final del modelo una vez que se ha ajustado y validado. Esta división es importante para medir la capacidad de generalización del modelo y evitar el sobreajuste al ajustar los parámetros y hiperparámetros del modelo."
      ],
      "metadata": {
        "id": "aXayjeO6hmmV"
      }
    },
    {
      "cell_type": "code",
      "source": [
        "# Se divide el conjunto de datos X_data en dos conjuntos: X_train_and_val y X_test.\n",
        "# Además, se divide el conjunto de etiquetas Y_data en dos conjuntos\n",
        "# correspondientes: Y_train_and_val y Y_test. La división se realiza\n",
        "# de manera que el conjunto de prueba tenga un tamaño del 10% del tamaño total del conjunto de datos.\n",
        "X_train_and_val, X_test, Y_train_and_val, Y_test = train_test_split(X_data, Y_data, test_size = 0.1)\n",
        "\n",
        "# A partir del conjunto combinado de entrenamiento y validación X_train_and_val,\n",
        "# se divide nuevamente en dos conjuntos: X_train y X_val. De manera similar,\n",
        "# se divide el conjunto combinado de etiquetas Y_train_and_val en los conjuntos\n",
        "#  correspondientes Y_train y Y_val. Esta división se realiza con el objetivo de\n",
        "#   tener un conjunto de validación separado para ajustar los hiperparámetros y\n",
        "#   evaluar el rendimiento del modelo durante el entrenamiento.\n",
        "X_train, X_val, Y_train, Y_val = train_test_split(X_train_and_val, Y_train_and_val, test_size = 0.2)\n"
      ],
      "metadata": {
        "id": "a73APOEkh1wv"
      },
      "execution_count": 83,
      "outputs": []
    },
    {
      "cell_type": "markdown",
      "source": [
        " Para visualizar el progreso de la función model.fit() utilizando la biblioteca tqdm se crea una clase TQDMCallback que hereda de keras.callbacks.Callback. Esta clase personalizada define tres métodos de devolución de llamada (on_train_begin, on_epoch_end y on_train_end) que se llaman en diferentes momentos durante el entrenamiento del modelo.\n",
        "\n",
        " En el método on_train_begin, se inicializa una barra de progreso de tqdm con la cantidad total de épocas (total=epochs). Luego, en el método on_epoch_end, se actualiza la barra de progreso y se muestra cualquier métrica personalizada que desees visualizar en cada época. Finalmente, en el método on_train_end, se cierra la barra de progreso.\n",
        "\n",
        ""
      ],
      "metadata": {
        "id": "c18VFWoKm0L6"
      }
    },
    {
      "cell_type": "code",
      "source": [
        "class TQDMCallback(Callback):\n",
        "    def __init__(self, total):\n",
        "        self.progbar = None\n",
        "        self.total = total\n",
        "\n",
        "    def on_train_begin(self, logs=None):\n",
        "        self.progbar = tqdm(total=self.total)\n",
        "\n",
        "    def on_epoch_end(self, epoch, logs=None):\n",
        "        self.progbar.update(1)\n",
        "        # Aquí se pueden agregar métricas personalizadas\n",
        "        #que te gustaría visualizar en cada época, en este caso se agrego 'accuracy'\n",
        "        self.progbar.set_postfix({'accuracy': logs['accuracy']})\n",
        "\n",
        "    def on_train_end(self, logs=None):\n",
        "        self.progbar.close()"
      ],
      "metadata": {
        "id": "PyPOV6bllFqW"
      },
      "execution_count": 86,
      "outputs": []
    },
    {
      "cell_type": "code",
      "source": [
        "#Entrenamiento del modelo\n",
        "\n",
        "\n",
        "# epochs representa el número de veces que el modelo recorre el conjunto\n",
        "# de entrenamiento completo durante el proceso de entrenamiento.\n",
        "# Cada época consta de una pasada hacia adelante (forward pass) y\n",
        "# una pasada hacia atrás (backward pass) a través de la red neuronal\n",
        "# para ajustar los pesos y actualizar los parámetros del modelo.\n",
        "# En cada época, el modelo aprende a partir de los datos y\n",
        "# trata de mejorar su rendimiento. Aumentar el número de épocas permite\n",
        "# que el modelo tenga más oportunidades para aprender patrones complejos\n",
        "# y mejorar su precisión. Sin embargo, aumentar en exceso las épocas puede\n",
        "# llevar a un sobreajuste, donde el modelo se adapta demasiado a los datos\n",
        "# de entrenamiento y tiene un rendimiento deficiente en nuevos datos.\n",
        "epochs = 100\n",
        "\n",
        "# batch_size indica el número de ejemplos de entrenamiento que se\n",
        "# utilizan en cada paso de actualización de los parámetros del modelo.\n",
        "# Durante el entrenamiento, los datos de entrenamiento se dividen en\n",
        "# lotes más pequeños, y cada lote se utiliza para calcular el gradiente\n",
        "# y ajustar los pesos del modelo. El tamaño del lote tiene un impacto en\n",
        "#  el uso de memoria y en la velocidad de entrenamiento del modelo.\n",
        "#  Un tamaño de lote pequeño puede requerir menos memoria, pero puede\n",
        "#  llevar a una convergencia más lenta debido a que los parámetros se\n",
        "#  actualizan con menos frecuencia. Por otro lado, un tamaño de lote\n",
        "#  grande puede acelerar el proceso de entrenamiento, pero también\n",
        "#  puede requerir más memoria y puede hacer que el modelo se atasque\n",
        "#  en óptimos locales. Además, el tamaño del lote puede afectar la\n",
        "#  generalización del modelo. Un tamaño de lote más grande puede\n",
        "#  proporcionar una estimación del gradiente más precisa, pero también\n",
        "#  puede hacer que el modelo tenga dificultades para generalizar a nuevos datos.\n",
        "batch_size = 128\n",
        "\n",
        "# Crear una instancia del objeto TQDMCallback y pasarlo como argumento a model.fit()\n",
        "tqdm_callback = TQDMCallback(total=epochs)\n",
        "history = model.fit(X_train, Y_train, batch_size=batch_size, epochs=epochs,\n",
        "                    validation_data=(X_val, Y_val), callbacks=[tqdm_callback])\n"
      ],
      "metadata": {
        "id": "X8xtkTCUn78w"
      },
      "execution_count": null,
      "outputs": []
    }
  ]
}